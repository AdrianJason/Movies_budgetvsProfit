{
 "cells": [
  {
   "cell_type": "code",
   "execution_count": 1,
   "metadata": {},
   "outputs": [
    {
     "ename": "ModuleNotFoundError",
     "evalue": "No module named 'config'",
     "output_type": "error",
     "traceback": [
      "\u001b[0;31m---------------------------------------------------------------------------\u001b[0m",
      "\u001b[0;31mModuleNotFoundError\u001b[0m                       Traceback (most recent call last)",
      "Input \u001b[0;32mIn [1]\u001b[0m, in \u001b[0;36m<cell line: 9>\u001b[0;34m()\u001b[0m\n\u001b[1;32m      7\u001b[0m \u001b[38;5;28;01mimport\u001b[39;00m \u001b[38;5;21;01mnumpy\u001b[39;00m \u001b[38;5;28;01mas\u001b[39;00m \u001b[38;5;21;01mnp\u001b[39;00m\n\u001b[1;32m      8\u001b[0m \u001b[38;5;28;01mfrom\u001b[39;00m \u001b[38;5;21;01mpprint\u001b[39;00m \u001b[38;5;28;01mimport\u001b[39;00m pprint\n\u001b[0;32m----> 9\u001b[0m \u001b[38;5;28;01mfrom\u001b[39;00m \u001b[38;5;21;01mconfig\u001b[39;00m \u001b[38;5;28;01mimport\u001b[39;00m api_key\n\u001b[1;32m     10\u001b[0m \u001b[38;5;28;01mfrom\u001b[39;00m \u001b[38;5;21;01mpandas_profiling\u001b[39;00m \u001b[38;5;28;01mimport\u001b[39;00m ProfileReport\n\u001b[1;32m     12\u001b[0m allmovies_df\u001b[38;5;241m=\u001b[39m pd\u001b[38;5;241m.\u001b[39mread_csv(\u001b[38;5;124m\"\u001b[39m\u001b[38;5;124mdata/allmoviesdata.csv\u001b[39m\u001b[38;5;124m\"\u001b[39m)\n",
      "\u001b[0;31mModuleNotFoundError\u001b[0m: No module named 'config'"
     ]
    }
   ],
   "source": [
    "import requests\n",
    "import json\n",
    "import os\n",
    "import csv\n",
    "import matplotlib.pyplot as plt\n",
    "import pandas as pd\n",
    "import numpy as np\n",
    "from pprint import pprint\n",
    "from config import api_key\n",
    "from pandas_profiling import ProfileReport\n",
    "\n",
    "allmovies_df= pd.read_csv(\"data/allmoviesdata.csv\")"
   ]
  },
  {
   "cell_type": "markdown",
   "metadata": {},
   "source": [
    "# Identifiying the movies with the highest IMDB ratings"
   ]
  },
  {
   "cell_type": "code",
   "execution_count": 2,
   "metadata": {
    "scrolled": false
   },
   "outputs": [
    {
     "ename": "NameError",
     "evalue": "name 'allmovies_df' is not defined",
     "output_type": "error",
     "traceback": [
      "\u001b[0;31m---------------------------------------------------------------------------\u001b[0m",
      "\u001b[0;31mNameError\u001b[0m                                 Traceback (most recent call last)",
      "Input \u001b[0;32mIn [2]\u001b[0m, in \u001b[0;36m<cell line: 1>\u001b[0;34m()\u001b[0m\n\u001b[0;32m----> 1\u001b[0m highestrated_df \u001b[38;5;241m=\u001b[39m \u001b[43mallmovies_df\u001b[49m\u001b[38;5;241m.\u001b[39mloc[allmovies_df[\u001b[38;5;124m\"\u001b[39m\u001b[38;5;124mIMDB Rating\u001b[39m\u001b[38;5;124m\"\u001b[39m] \u001b[38;5;241m>\u001b[39m\u001b[38;5;241m=\u001b[39m \u001b[38;5;241m8.3\u001b[39m, [\n\u001b[1;32m      2\u001b[0m     \u001b[38;5;124m\"\u001b[39m\u001b[38;5;124mTitle\u001b[39m\u001b[38;5;124m\"\u001b[39m, \u001b[38;5;124m\"\u001b[39m\u001b[38;5;124mProduction Budget\u001b[39m\u001b[38;5;124m\"\u001b[39m, \u001b[38;5;124m\"\u001b[39m\u001b[38;5;124mIMDB Rating\u001b[39m\u001b[38;5;124m\"\u001b[39m, \u001b[38;5;124m\"\u001b[39m\u001b[38;5;124mYear\u001b[39m\u001b[38;5;124m\"\u001b[39m, \u001b[38;5;124m\"\u001b[39m\u001b[38;5;124mStudio\u001b[39m\u001b[38;5;124m\"\u001b[39m, \u001b[38;5;124m\"\u001b[39m\u001b[38;5;124mDirector\u001b[39m\u001b[38;5;124m\"\u001b[39m]]\n\u001b[1;32m      3\u001b[0m highestrated_df\n",
      "\u001b[0;31mNameError\u001b[0m: name 'allmovies_df' is not defined"
     ]
    }
   ],
   "source": [
    "highestrated_df = allmovies_df.loc[allmovies_df[\"IMDB Rating\"] >= 8.3, [\n",
    "    \"Title\", \"Production Budget\", \"IMDB Rating\", \"Year\", \"Studio\", \"Director\"]]\n",
    "highestrated_df"
   ]
  },
  {
   "cell_type": "code",
   "execution_count": null,
   "metadata": {},
   "outputs": [],
   "source": [
    "highbudavg = highestrated_df[\"Production Budget\"].mean()\n",
    "\n",
    "print(f\"The average budget of the movies with the highest IMDB Ratings was {highbudavg}\")"
   ]
  },
  {
   "cell_type": "code",
   "execution_count": null,
   "metadata": {},
   "outputs": [],
   "source": [
    "highrateavg = highestrated_df[\"IMDB Rating\"].mean()\n",
    "\n",
    "print(f\"The average IMDB rating of the movies with the highest IMDB Ratings was {highrateavg}\")"
   ]
  },
  {
   "cell_type": "code",
   "execution_count": null,
   "metadata": {},
   "outputs": [],
   "source": [
    "eda_highrated = ProfileReport(highestrated_df)\n",
    "eda_highrated"
   ]
  },
  {
   "cell_type": "code",
   "execution_count": null,
   "metadata": {},
   "outputs": [],
   "source": [
    "x_axishighrate = np.arange(len(highestrated_df))\n",
    "tick_locations = [value+0.5 for value in x_axishighrate]"
   ]
  },
  {
   "cell_type": "code",
   "execution_count": null,
   "metadata": {
    "scrolled": true
   },
   "outputs": [],
   "source": [
    "plt.figure(figsize=(20,5))\n",
    "plt.bar(x_axishighrate, highestrated_df[\"IMDB Rating\"], color='blue', alpha=0.9, align=\"edge\")\n",
    "plt.xticks(tick_locations, highestrated_df[\"Title\"], rotation=\"90\", fontsize=25)\n",
    "plt.xlim(-0.25, len(x_axishighrate))\n",
    "plt.ylim(0, max(highestrated_df[\"IMDB Rating\"])+2)\n",
    "#plt.grid(color='black', linewidth=1, axis='both', alpha=0.3)\n",
    "plt.title(\"Highest Rated Movies with an IMDB rating of 8.3 or higher\",fontsize=25)\n",
    "plt.xlabel(\"Movie\", fontsize=25)\n",
    "plt.ylabel(\"IMBD Rating\", fontsize=25)\n",
    "plt.savefig(\"graphs/highratedmovies.png\")"
   ]
  },
  {
   "cell_type": "markdown",
   "metadata": {},
   "source": [
    "# Identifiying the movies with the lowest IMDB ratings"
   ]
  },
  {
   "cell_type": "code",
   "execution_count": null,
   "metadata": {
    "scrolled": true
   },
   "outputs": [],
   "source": [
    "lowestrated_df = allmovies_df.loc[allmovies_df[\"IMDB Rating\"] <= 5.5, [\n",
    "    \"Title\", \"Production Budget\", \"IMDB Rating\", \"Year\", \"Studio\", \"Director\"]]\n",
    "lowestrated_df"
   ]
  },
  {
   "cell_type": "code",
   "execution_count": null,
   "metadata": {},
   "outputs": [],
   "source": [
    "lowbudavg = lowestrated_df[\"Production Budget\"].mean()\n",
    "\n",
    "print(f\"The average budget of the movies with the lowest IMDB Ratings was {lowbudavg}\")"
   ]
  },
  {
   "cell_type": "code",
   "execution_count": null,
   "metadata": {},
   "outputs": [],
   "source": [
    "lowrateavg = lowestrated_df[\"IMDB Rating\"].mean()\n",
    "\n",
    "print(f\"The average rating of the movies with the lowest IMDB Ratings was {lowrateavg}\")"
   ]
  },
  {
   "cell_type": "code",
   "execution_count": null,
   "metadata": {},
   "outputs": [],
   "source": [
    "eda_lowrated = ProfileReport(lowestrated_df)\n",
    "eda_lowrated"
   ]
  },
  {
   "cell_type": "code",
   "execution_count": null,
   "metadata": {},
   "outputs": [],
   "source": [
    "x_axislowrate = np.arange(len(lowestrated_df))\n",
    "tick_locations = [value+0.5 for value in x_axislowrate]"
   ]
  },
  {
   "cell_type": "code",
   "execution_count": null,
   "metadata": {
    "scrolled": true
   },
   "outputs": [],
   "source": [
    "plt.figure(figsize=(20,5))\n",
    "plt.bar(x_axislowrate, lowestrated_df[\"IMDB Rating\"], color='red', alpha=0.9, align=\"edge\")\n",
    "plt.xticks(tick_locations, lowestrated_df[\"Title\"], rotation=\"90\", fontsize=25)\n",
    "plt.xlim(-0.25, len(x_axislowrate))\n",
    "plt.ylim(0, max(lowestrated_df[\"IMDB Rating\"])+2)\n",
    "#plt.grid(color='black', linewidth=1, axis='both', alpha=0.3)\n",
    "plt.title(\"Lowest Rated Movies with an IMDB rating of 5.5 or lower\",fontsize=25)\n",
    "plt.xlabel(\"Movie\", fontsize=25)\n",
    "plt.ylabel(\"IMBD Rating\", fontsize=25)\n",
    "plt.savefig(\"graphs/lowratedmovies.png\")"
   ]
  },
  {
   "cell_type": "markdown",
   "metadata": {},
   "source": [
    "# Identifiying the movies with the highest Production Budgets"
   ]
  },
  {
   "cell_type": "code",
   "execution_count": null,
   "metadata": {
    "scrolled": false
   },
   "outputs": [],
   "source": [
    "highestcost_df = allmovies_df.loc[allmovies_df[\"Production Budget\"] >= 230000000, [\n",
    "    \"Title\", \"Production Budget\", \"IMDB Rating\", \"Year\", \"Studio\", \"Director\"]]\n",
    "highestcost_df"
   ]
  },
  {
   "cell_type": "code",
   "execution_count": null,
   "metadata": {},
   "outputs": [],
   "source": [
    "high_budavg = highestcost_df[\"Production Budget\"].mean()\n",
    "\n",
    "print(f\"The average budget of the movies with production budgets of $230 million or higher was {high_budavg}\")"
   ]
  },
  {
   "cell_type": "code",
   "execution_count": null,
   "metadata": {},
   "outputs": [],
   "source": [
    "high_rateavg = highestcost_df[\"IMDB Rating\"].mean()\n",
    "\n",
    "print(f\"The average rating of the movies with production budgets of $230 million or higher was {high_rateavg}\")"
   ]
  },
  {
   "cell_type": "code",
   "execution_count": null,
   "metadata": {},
   "outputs": [],
   "source": [
    "eda_highcost = ProfileReport(highestcost_df)\n",
    "eda_highcost"
   ]
  },
  {
   "cell_type": "code",
   "execution_count": null,
   "metadata": {},
   "outputs": [],
   "source": [
    "x_axishighbud = np.arange(len(highestcost_df))\n",
    "tick_locations = [value+0.5 for value in x_axishighbud]"
   ]
  },
  {
   "cell_type": "code",
   "execution_count": null,
   "metadata": {
    "scrolled": true
   },
   "outputs": [],
   "source": [
    "plt.figure(figsize=(20,7))\n",
    "plt.bar(x_axishighbud, highestcost_df[\"Production Budget\"], color='lightblue', alpha=0.9, align=\"edge\")\n",
    "plt.xticks(tick_locations, highestcost_df[\"Title\"], rotation=\"90\", fontsize=25)\n",
    "plt.xlim(-0.25, len(x_axishighbud))\n",
    "plt.ylim(0, max(highestcost_df[\"Production Budget\"])+15000000)\n",
    "#plt.grid(color='black', linewidth=1, axis='both', alpha=0.2)\n",
    "plt.title(\"Movies with a Production Budget of $230 Million or more\",fontsize=25)\n",
    "plt.xlabel(\"Movie\", fontsize=25)\n",
    "plt.ylabel(\"Production Cost\", fontsize=25)\n",
    "plt.savefig(\"graphs/highbudgetmovies.png\")"
   ]
  },
  {
   "cell_type": "markdown",
   "metadata": {},
   "source": [
    "# Identifiying the movies with the lowest Production Budgets"
   ]
  },
  {
   "cell_type": "code",
   "execution_count": null,
   "metadata": {
    "scrolled": true
   },
   "outputs": [],
   "source": [
    "lowestcost_df = allmovies_df.loc[allmovies_df[\"Production Budget\"] <= 12000000, [\n",
    "    \"Title\", \"Production Budget\", \"IMDB Rating\", \"Year\", \"Studio\", \"Director\"]]\n",
    "lowestcost_df"
   ]
  },
  {
   "cell_type": "code",
   "execution_count": null,
   "metadata": {},
   "outputs": [],
   "source": [
    "low_budavg = lowestcost_df[\"Production Budget\"].mean()\n",
    "\n",
    "print(f\"The average budget of the movies with production budgets of $12 million or lower was {low_budavg}\")"
   ]
  },
  {
   "cell_type": "code",
   "execution_count": null,
   "metadata": {},
   "outputs": [],
   "source": [
    "low_rateavg = lowestcost_df[\"IMDB Rating\"].mean()\n",
    "\n",
    "print(f\"The average rating of the movies with production budgets of $12 million or lower was {low_rateavg}\")"
   ]
  },
  {
   "cell_type": "code",
   "execution_count": null,
   "metadata": {},
   "outputs": [],
   "source": [
    "eda_lowcost = ProfileReport(lowestcost_df)\n",
    "eda_lowcost"
   ]
  },
  {
   "cell_type": "code",
   "execution_count": null,
   "metadata": {},
   "outputs": [],
   "source": [
    "x_axislowbud = np.arange(len(lowestcost_df))\n",
    "tick_locations = [value+0.5 for value in x_axislowbud]"
   ]
  },
  {
   "cell_type": "code",
   "execution_count": null,
   "metadata": {
    "scrolled": true
   },
   "outputs": [],
   "source": [
    "plt.figure(figsize=(20,7))\n",
    "plt.bar(x_axislowbud, lowestcost_df[\"Production Budget\"], color='green', alpha=0.9, align=\"edge\")\n",
    "plt.xticks(tick_locations, lowestcost_df[\"Title\"], rotation=\"90\", fontsize=25)\n",
    "plt.xlim(-0.25, len(x_axislowbud))\n",
    "plt.ylim(0, max(lowestcost_df[\"Production Budget\"])+500000)\n",
    "#plt.grid(color='black', linewidth=1, axis='both', alpha=0.2)\n",
    "plt.title(\"Movies with a Production Budget of $12 Million or less\",fontsize=25)\n",
    "plt.xlabel(\"Movie\", fontsize=25)\n",
    "plt.ylabel(\"Production Cost\", fontsize=25)\n",
    "plt.savefig(\"graphs/lowbudgetmovies.png\")"
   ]
  },
  {
   "cell_type": "markdown",
   "metadata": {},
   "source": [
    "# Does the production budget of a film have a correlation with the ratings of a movie?"
   ]
  },
  {
   "cell_type": "markdown",
   "metadata": {},
   "source": [
    "When reviewing the data, we initially wanted to identify the movies with the highest IMDB ratings and the ones with the lowest IMDB ratings and then compare how the budgets for each data set identified. Within the data compiled, there was 12 movies identified as having an IMDB rating of equal or greater than 8.3 and each movie had an average budget of roughly 140 million dollars. The highest rated movie per the data compiled was The Dark Knight which had a production budget of 185 million dollars and achieved a 9.0 IMDB rating. \n",
    "\n",
    "Conversely there was 7 movies identified as having an IMDB rating equal or less than 5.5 and each movie had an average budget of roughly 84 million dollars. The lowest rated movie per the data complied was The Twilight Saga: New Moon which had a production budget of 50 million dollars and achieved a 4.6 IMDB rating. \n",
    "\n",
    "We then wanted to identify the movies with the highest and lowest production budgets and then compare how their IMDB ratings were.  Within the data compiled, there was 12 movies identified as having a production budget of 230 million dollars or higher. Each movie had an average budget of roughly 281 million dollars and an average IMDB rating of 7.35. In terms of the lowest production budgets, there was 13 films identified as having a production budget of 12 million dollars or less. Each movie had an average budget of roughly 7.7 million dollars and an average IMDB rating of 7.08. \n",
    "\n",
    "Based upon the information compiled we can confirm that there is a correlation with the production budget of a film and their ratings. An interesting observation was the highest budget film, Pirates of the Carribbean: On Stranger Tides had a production budget of 379 million dollars and only obtained a 6.7 IMDB rating; however, the lowest production budget film of The Full Monty obtained a 7.2 IMDB rating with a production budget of only 3.5 million dollars. \n"
   ]
  },
  {
   "cell_type": "markdown",
   "metadata": {},
   "source": [
    "Changes in Cost Over the Years"
   ]
  },
  {
   "cell_type": "markdown",
   "metadata": {},
   "source": [
    "* main - line\n",
    "\n",
    "* 1990's\n",
    "\n",
    "* 2000's\n",
    "\n",
    "* 2010's"
   ]
  },
  {
   "cell_type": "markdown",
   "metadata": {},
   "source": [
    "Production Costs per Genre\n",
    "* pie chart - broken by genre\n",
    "* pie chart - production companies"
   ]
  },
  {
   "cell_type": "markdown",
   "metadata": {},
   "source": [
    "Production Cost vs Domestic and Worldwide Gross\n",
    "* production cost vs domestic - scatter plot\n",
    "* production cost vs worldwide"
   ]
  },
  {
   "cell_type": "markdown",
   "metadata": {},
   "source": [
    "Production Cost vs Viewer Ratings\n",
    "* scatter plot"
   ]
  },
  {
   "cell_type": "markdown",
   "metadata": {},
   "source": [
    "Director\n",
    "* bar - combined gross for movies\n",
    "\n",
    "* top 100 movies directors"
   ]
  }
 ],
 "metadata": {
  "kernelspec": {
   "display_name": "Python 3 (ipykernel)",
   "language": "python",
   "name": "python3"
  },
  "language_info": {
   "codemirror_mode": {
    "name": "ipython",
    "version": 3
   },
   "file_extension": ".py",
   "mimetype": "text/x-python",
   "name": "python",
   "nbconvert_exporter": "python",
   "pygments_lexer": "ipython3",
   "version": "3.9.12"
  },
  "vscode": {
   "interpreter": {
    "hash": "88279d2366fe020547cde40dd65aa0e3aa662a6ec1f3ca12d88834876c85e1a6"
   }
  }
 },
 "nbformat": 4,
 "nbformat_minor": 2
}
